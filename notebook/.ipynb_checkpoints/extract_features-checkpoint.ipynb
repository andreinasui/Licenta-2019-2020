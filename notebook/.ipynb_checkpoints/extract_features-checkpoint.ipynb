{
 "cells": [
  {
   "cell_type": "code",
   "execution_count": 1,
   "metadata": {},
   "outputs": [
    {
     "data": {
      "text/html": [
       "<div>\n",
       "<style scoped>\n",
       "    .dataframe tbody tr th:only-of-type {\n",
       "        vertical-align: middle;\n",
       "    }\n",
       "\n",
       "    .dataframe tbody tr th {\n",
       "        vertical-align: top;\n",
       "    }\n",
       "\n",
       "    .dataframe thead th {\n",
       "        text-align: right;\n",
       "    }\n",
       "</style>\n",
       "<table border=\"1\" class=\"dataframe\">\n",
       "  <thead>\n",
       "    <tr style=\"text-align: right;\">\n",
       "      <th></th>\n",
       "      <th>Time</th>\n",
       "      <th>TP9</th>\n",
       "      <th>AF7</th>\n",
       "      <th>AF8</th>\n",
       "      <th>TP10</th>\n",
       "    </tr>\n",
       "  </thead>\n",
       "  <tbody>\n",
       "    <tr>\n",
       "      <th>0</th>\n",
       "      <td>0.000</td>\n",
       "      <td>-224.609</td>\n",
       "      <td>-59.570</td>\n",
       "      <td>125.977</td>\n",
       "      <td>-211.426</td>\n",
       "    </tr>\n",
       "    <tr>\n",
       "      <th>1</th>\n",
       "      <td>0.004</td>\n",
       "      <td>-222.168</td>\n",
       "      <td>-57.129</td>\n",
       "      <td>132.324</td>\n",
       "      <td>-269.043</td>\n",
       "    </tr>\n",
       "    <tr>\n",
       "      <th>2</th>\n",
       "      <td>0.008</td>\n",
       "      <td>-205.078</td>\n",
       "      <td>-53.711</td>\n",
       "      <td>138.184</td>\n",
       "      <td>-340.820</td>\n",
       "    </tr>\n",
       "    <tr>\n",
       "      <th>3</th>\n",
       "      <td>0.012</td>\n",
       "      <td>-199.219</td>\n",
       "      <td>-52.246</td>\n",
       "      <td>138.184</td>\n",
       "      <td>-329.590</td>\n",
       "    </tr>\n",
       "    <tr>\n",
       "      <th>4</th>\n",
       "      <td>0.016</td>\n",
       "      <td>-207.031</td>\n",
       "      <td>-52.246</td>\n",
       "      <td>136.719</td>\n",
       "      <td>-248.047</td>\n",
       "    </tr>\n",
       "  </tbody>\n",
       "</table>\n",
       "</div>"
      ],
      "text/plain": [
       "    Time      TP9     AF7      AF8     TP10\n",
       "0  0.000 -224.609 -59.570  125.977 -211.426\n",
       "1  0.004 -222.168 -57.129  132.324 -269.043\n",
       "2  0.008 -205.078 -53.711  138.184 -340.820\n",
       "3  0.012 -199.219 -52.246  138.184 -329.590\n",
       "4  0.016 -207.031 -52.246  136.719 -248.047"
      ]
     },
     "execution_count": 1,
     "metadata": {},
     "output_type": "execute_result"
    }
   ],
   "source": [
    "import pandas as pd\n",
    "import numpy as np\n",
    "from scipy import signal\n",
    "%matplotlib notebook\n",
    "import matplotlib.pyplot as plt\n",
    "\n",
    "OVERLAP = 0.5 # in seconds\n",
    "WIN_LEN = 1 # in seconds\n",
    "\n",
    "data = pd.read_csv('../muse-datasets/raw-data/nasui-focused-1.csv')\n",
    "data = data.iloc[:,:5]\n",
    "\n",
    "data['timestamps'] = data['timestamps'] - data['timestamps'].iloc[0]\n",
    "data = data.loc[(data['timestamps'] >= 3) & (data['timestamps'] < 63)]\n",
    "data['timestamps'] = data['timestamps'] - data['timestamps'].iloc[0]\n",
    "data.rename(columns={'timestamps':'Time'},inplace=True)\n",
    "data.reset_index(drop=True,inplace=True)\n",
    "data.head()"
   ]
  },
  {
   "cell_type": "code",
   "execution_count": 2,
   "metadata": {},
   "outputs": [],
   "source": [
    "start = 0\n",
    "end = start + 1\n",
    "w_time = data.loc[(data['Time'] >= start) & (data['Time'] < end)]\n",
    "w = w_time.iloc[:,1:] if w_time.columns[0] == 'Time' else None"
   ]
  },
  {
   "cell_type": "code",
   "execution_count": 3,
   "metadata": {},
   "outputs": [],
   "source": [
    "# Split window using np.split()\n",
    "wh = np.vsplit(w,2)\n",
    "wq = np.vsplit(w,4)\n",
    "w_max = w.max()\n",
    "w_max.rename(index={'TP9':'std_0','AF7':'std_1','AF8':'std_2','TP10':'std_3'}, inplace=True)\n"
   ]
  },
  {
   "cell_type": "code",
   "execution_count": 4,
   "metadata": {},
   "outputs": [],
   "source": [
    "# Extract mean, std dev of each full window\n",
    "std = w.std()\n",
    "std.rename(index={'TP9':'std_0','AF7':'std_1','AF8':'std_2','TP10':'std_3'}, inplace=True)\n",
    "mean = w.mean()\n",
    "mean.rename(index={'TP9':'mean_0','AF7':'mean_1','AF8':'mean_2','TP10':'mean_3'}, inplace=True)"
   ]
  },
  {
   "cell_type": "code",
   "execution_count": 5,
   "metadata": {},
   "outputs": [],
   "source": [
    "# Skewness\n",
    "w_skew = w.skew()\n",
    "w_skew.rename(index={'TP9':'skew_0','AF7':'skew_1','AF8':'skew_2','TP10':'skew_3'}, inplace=True)\n",
    "w_kurtosis = w.kurtosis()\n",
    "w_kurtosis.rename(index={'TP9':'kurt_0','AF7':'kurt_1','AF8':'kurt_2','TP10':'kurt_3'}, inplace=True)"
   ]
  },
  {
   "cell_type": "code",
   "execution_count": 6,
   "metadata": {},
   "outputs": [
    {
     "data": {
      "text/html": [
       "<div>\n",
       "<style scoped>\n",
       "    .dataframe tbody tr th:only-of-type {\n",
       "        vertical-align: middle;\n",
       "    }\n",
       "\n",
       "    .dataframe tbody tr th {\n",
       "        vertical-align: top;\n",
       "    }\n",
       "\n",
       "    .dataframe thead th {\n",
       "        text-align: right;\n",
       "    }\n",
       "</style>\n",
       "<table border=\"1\" class=\"dataframe\">\n",
       "  <thead>\n",
       "    <tr style=\"text-align: right;\">\n",
       "      <th></th>\n",
       "      <th>TP9</th>\n",
       "      <th>AF7</th>\n",
       "      <th>AF8</th>\n",
       "      <th>TP10</th>\n",
       "    </tr>\n",
       "  </thead>\n",
       "  <tbody>\n",
       "    <tr>\n",
       "      <th>TP9</th>\n",
       "      <td>6104.029091</td>\n",
       "      <td>2558.714800</td>\n",
       "      <td>-2881.880696</td>\n",
       "      <td>9327.740623</td>\n",
       "    </tr>\n",
       "    <tr>\n",
       "      <th>AF7</th>\n",
       "      <td>2558.714800</td>\n",
       "      <td>1211.478404</td>\n",
       "      <td>-1158.673931</td>\n",
       "      <td>4054.475958</td>\n",
       "    </tr>\n",
       "    <tr>\n",
       "      <th>AF8</th>\n",
       "      <td>-2881.880696</td>\n",
       "      <td>-1158.673931</td>\n",
       "      <td>2151.224463</td>\n",
       "      <td>-4634.389254</td>\n",
       "    </tr>\n",
       "    <tr>\n",
       "      <th>TP10</th>\n",
       "      <td>9327.740623</td>\n",
       "      <td>4054.475958</td>\n",
       "      <td>-4634.389254</td>\n",
       "      <td>18078.856431</td>\n",
       "    </tr>\n",
       "  </tbody>\n",
       "</table>\n",
       "</div>"
      ],
      "text/plain": [
       "              TP9          AF7          AF8          TP10\n",
       "TP9   6104.029091  2558.714800 -2881.880696   9327.740623\n",
       "AF7   2558.714800  1211.478404 -1158.673931   4054.475958\n",
       "AF8  -2881.880696 -1158.673931  2151.224463  -4634.389254\n",
       "TP10  9327.740623  4054.475958 -4634.389254  18078.856431"
      ]
     },
     "execution_count": 6,
     "metadata": {},
     "output_type": "execute_result"
    }
   ],
   "source": [
    "# Signals covariance matrix\n",
    "w_cov_matrix = w.cov()\n",
    "w_cov_matrix"
   ]
  },
  {
   "cell_type": "code",
   "execution_count": 7,
   "metadata": {},
   "outputs": [],
   "source": [
    "# Signals variance\n",
    "w_var = pd.Series(np.diag(w_cov_matrix), index=['variance_0','variance_1','variance_2','variance_3'])"
   ]
  },
  {
   "cell_type": "code",
   "execution_count": 8,
   "metadata": {},
   "outputs": [
    {
     "data": {
      "text/plain": [
       "cov_0    2558.714800\n",
       "cov_1   -2881.880696\n",
       "cov_2    9327.740623\n",
       "cov_3   -1158.673931\n",
       "cov_4    4054.475958\n",
       "cov_5   -4634.389254\n",
       "dtype: float64"
      ]
     },
     "execution_count": 8,
     "metadata": {},
     "output_type": "execute_result"
    }
   ],
   "source": [
    "# Signals covariance as pandas Series\n",
    "w_cov_series = pd.Series({'cov_0':w_cov_matrix.iloc[0,1], 'cov_1':w_cov_matrix.iloc[0,2], \n",
    "                          'cov_2':w_cov_matrix.iloc[0,3], 'cov_3':w_cov_matrix.iloc[1,2],\n",
    "                          'cov_4':w_cov_matrix.iloc[1,3], 'cov_5':w_cov_matrix.iloc[2,3]})\n",
    "w_cov_series"
   ]
  },
  {
   "cell_type": "code",
   "execution_count": 9,
   "metadata": {},
   "outputs": [
    {
     "data": {
      "text/plain": [
       "eignval_0    25502.221074\n",
       "eignval_1     1275.106593\n",
       "eignval_2      659.006063\n",
       "eignval_3      109.254660\n",
       "dtype: float64"
      ]
     },
     "execution_count": 9,
     "metadata": {},
     "output_type": "execute_result"
    }
   ],
   "source": [
    "# Compute eigen values for covariance matrix\n",
    "from numpy import linalg\n",
    "\n",
    "eig = linalg.eigvals(w_cov_matrix)\n",
    "eig = pd.Series({'eignval_0':eig[0],'eignval_1':eig[1],'eignval_2':eig[2],'eignval_3':eig[3],})\n",
    "eig"
   ]
  },
  {
   "cell_type": "code",
   "execution_count": 10,
   "metadata": {},
   "outputs": [
    {
     "data": {
      "text/html": [
       "<div>\n",
       "<style scoped>\n",
       "    .dataframe tbody tr th:only-of-type {\n",
       "        vertical-align: middle;\n",
       "    }\n",
       "\n",
       "    .dataframe tbody tr th {\n",
       "        vertical-align: top;\n",
       "    }\n",
       "\n",
       "    .dataframe thead th {\n",
       "        text-align: right;\n",
       "    }\n",
       "</style>\n",
       "<table border=\"1\" class=\"dataframe\">\n",
       "  <thead>\n",
       "    <tr style=\"text-align: right;\">\n",
       "      <th></th>\n",
       "      <th>mean_0</th>\n",
       "      <th>mean_1</th>\n",
       "      <th>mean_2</th>\n",
       "      <th>mean_3</th>\n",
       "      <th>std_0</th>\n",
       "      <th>std_1</th>\n",
       "      <th>std_2</th>\n",
       "      <th>std_3</th>\n",
       "      <th>skew_0</th>\n",
       "      <th>skew_1</th>\n",
       "      <th>...</th>\n",
       "      <th>cov_0</th>\n",
       "      <th>cov_1</th>\n",
       "      <th>cov_2</th>\n",
       "      <th>cov_3</th>\n",
       "      <th>cov_4</th>\n",
       "      <th>cov_5</th>\n",
       "      <th>eignval_0</th>\n",
       "      <th>eignval_1</th>\n",
       "      <th>eignval_2</th>\n",
       "      <th>eignval_3</th>\n",
       "    </tr>\n",
       "  </thead>\n",
       "  <tbody>\n",
       "    <tr>\n",
       "      <th>0</th>\n",
       "      <td>-68.208684</td>\n",
       "      <td>30.029301</td>\n",
       "      <td>92.912652</td>\n",
       "      <td>-38.366312</td>\n",
       "      <td>78.128286</td>\n",
       "      <td>34.806298</td>\n",
       "      <td>46.381294</td>\n",
       "      <td>134.457638</td>\n",
       "      <td>-0.15739</td>\n",
       "      <td>-0.849355</td>\n",
       "      <td>...</td>\n",
       "      <td>2558.7148</td>\n",
       "      <td>-2881.880696</td>\n",
       "      <td>9327.740623</td>\n",
       "      <td>-1158.673931</td>\n",
       "      <td>4054.475958</td>\n",
       "      <td>-4634.389254</td>\n",
       "      <td>25502.221074</td>\n",
       "      <td>1275.106593</td>\n",
       "      <td>659.006063</td>\n",
       "      <td>109.25466</td>\n",
       "    </tr>\n",
       "  </tbody>\n",
       "</table>\n",
       "<p>1 rows × 30 columns</p>\n",
       "</div>"
      ],
      "text/plain": [
       "      mean_0     mean_1     mean_2     mean_3      std_0      std_1  \\\n",
       "0 -68.208684  30.029301  92.912652 -38.366312  78.128286  34.806298   \n",
       "\n",
       "       std_2       std_3   skew_0    skew_1  ...      cov_0        cov_1  \\\n",
       "0  46.381294  134.457638 -0.15739 -0.849355  ...  2558.7148 -2881.880696   \n",
       "\n",
       "         cov_2        cov_3        cov_4        cov_5     eignval_0  \\\n",
       "0  9327.740623 -1158.673931  4054.475958 -4634.389254  25502.221074   \n",
       "\n",
       "     eignval_1   eignval_2  eignval_3  \n",
       "0  1275.106593  659.006063  109.25466  \n",
       "\n",
       "[1 rows x 30 columns]"
      ]
     },
     "execution_count": 10,
     "metadata": {},
     "output_type": "execute_result"
    }
   ],
   "source": [
    "# Concatenate all full windows features\n",
    "result = pd.DataFrame(data=pd.concat([mean,std,w_skew,w_kurtosis,w_var,w_cov_series,eig])).T\n",
    "result"
   ]
  },
  {
   "cell_type": "code",
   "execution_count": 11,
   "metadata": {},
   "outputs": [
    {
     "data": {
      "text/html": [
       "<div>\n",
       "<style scoped>\n",
       "    .dataframe tbody tr th:only-of-type {\n",
       "        vertical-align: middle;\n",
       "    }\n",
       "\n",
       "    .dataframe tbody tr th {\n",
       "        vertical-align: top;\n",
       "    }\n",
       "\n",
       "    .dataframe thead th {\n",
       "        text-align: right;\n",
       "    }\n",
       "</style>\n",
       "<table border=\"1\" class=\"dataframe\">\n",
       "  <thead>\n",
       "    <tr style=\"text-align: right;\">\n",
       "      <th></th>\n",
       "      <th>d_mean_0</th>\n",
       "      <th>d_mean_1</th>\n",
       "      <th>d_mean_2</th>\n",
       "      <th>d_mean_3</th>\n",
       "      <th>d_std_0</th>\n",
       "      <th>d_std_1</th>\n",
       "      <th>d_std_2</th>\n",
       "      <th>d_std_3</th>\n",
       "      <th>d_max_0</th>\n",
       "      <th>d_max_1</th>\n",
       "      <th>d_max_2</th>\n",
       "      <th>d_max_3</th>\n",
       "      <th>d_min_0</th>\n",
       "      <th>d_min_1</th>\n",
       "      <th>d_min_2</th>\n",
       "      <th>d_min_3</th>\n",
       "    </tr>\n",
       "  </thead>\n",
       "  <tbody>\n",
       "    <tr>\n",
       "      <th>0</th>\n",
       "      <td>66.659941</td>\n",
       "      <td>27.877809</td>\n",
       "      <td>-35.14291</td>\n",
       "      <td>104.696266</td>\n",
       "      <td>-3.894924</td>\n",
       "      <td>-11.232692</td>\n",
       "      <td>10.773428</td>\n",
       "      <td>-10.72077</td>\n",
       "      <td>53.223</td>\n",
       "      <td>10.7425</td>\n",
       "      <td>-31.7385</td>\n",
       "      <td>83.252</td>\n",
       "      <td>73.486</td>\n",
       "      <td>50.537</td>\n",
       "      <td>-66.162</td>\n",
       "      <td>130.127</td>\n",
       "    </tr>\n",
       "  </tbody>\n",
       "</table>\n",
       "</div>"
      ],
      "text/plain": [
       "    d_mean_0   d_mean_1  d_mean_2    d_mean_3   d_std_0    d_std_1    d_std_2  \\\n",
       "0  66.659941  27.877809 -35.14291  104.696266 -3.894924 -11.232692  10.773428   \n",
       "\n",
       "    d_std_3  d_max_0  d_max_1  d_max_2  d_max_3  d_min_0  d_min_1  d_min_2  \\\n",
       "0 -10.72077   53.223  10.7425 -31.7385   83.252   73.486   50.537  -66.162   \n",
       "\n",
       "   d_min_3  \n",
       "0  130.127  "
      ]
     },
     "execution_count": 11,
     "metadata": {},
     "output_type": "execute_result"
    }
   ],
   "source": [
    "### HALF WINDOW OPERATIONS ###\n",
    "wh = np.vsplit(w,2)\n",
    "# Compute the change in the sample means between 1st and 2nd half-window\n",
    "d_mean = (wh[1].mean() - wh[0].mean()) / 2\n",
    "d_mean.rename(index={'TP9':'d_mean_0','AF7':'d_mean_1',\n",
    "    'AF8':'d_mean_2','TP10':'d_mean_3'}, inplace=True)\n",
    "# Compute the change in the sample std deviation between 1st and 2nd half-window\n",
    "d_std = (wh[1].std() - wh[0].std()) / 2\n",
    "d_std.rename(index={'TP9':'d_std_0','AF7':'d_std_1',\n",
    "    'AF8':'d_std_2','TP10':'d_std_3'}, inplace=True)\n",
    "# Compute the change in the sample max between 1st and 2nd half-window\n",
    "d_max = (wh[1].max() - wh[0].max()) / 2\n",
    "d_max.rename(index={'TP9':'d_max_0','AF7':'d_max_1',\n",
    "    'AF8':'d_max_2','TP10':'d_max_3'}, inplace=True)\n",
    "# Compute the change in the sample min between 1st and 2nd half-window\n",
    "d_min = (wh[1].min() - wh[0].min()) / 2\n",
    "d_min.rename(index={'TP9':'d_min_0','AF7':'d_min_1',\n",
    "    'AF8':'d_min_2','TP10':'d_min_3'}, inplace=True)\n",
    "\n",
    "result_h = pd.DataFrame(data=pd.concat([d_mean,d_std,d_max,d_min])).T\n",
    "result_h"
   ]
  },
  {
   "cell_type": "code",
   "execution_count": 12,
   "metadata": {},
   "outputs": [
    {
     "data": {
      "text/html": [
       "<div>\n",
       "<style scoped>\n",
       "    .dataframe tbody tr th:only-of-type {\n",
       "        vertical-align: middle;\n",
       "    }\n",
       "\n",
       "    .dataframe tbody tr th {\n",
       "        vertical-align: top;\n",
       "    }\n",
       "\n",
       "    .dataframe thead th {\n",
       "        text-align: right;\n",
       "    }\n",
       "</style>\n",
       "<table border=\"1\" class=\"dataframe\">\n",
       "  <thead>\n",
       "    <tr style=\"text-align: right;\">\n",
       "      <th></th>\n",
       "      <th>mean_0</th>\n",
       "      <th>mean_1</th>\n",
       "      <th>mean_2</th>\n",
       "      <th>mean_3</th>\n",
       "      <th>std_0</th>\n",
       "      <th>std_1</th>\n",
       "      <th>std_2</th>\n",
       "      <th>std_3</th>\n",
       "      <th>skew_0</th>\n",
       "      <th>skew_1</th>\n",
       "      <th>...</th>\n",
       "      <th>d_std_2</th>\n",
       "      <th>d_std_3</th>\n",
       "      <th>d_max_0</th>\n",
       "      <th>d_max_1</th>\n",
       "      <th>d_max_2</th>\n",
       "      <th>d_max_3</th>\n",
       "      <th>d_min_0</th>\n",
       "      <th>d_min_1</th>\n",
       "      <th>d_min_2</th>\n",
       "      <th>d_min_3</th>\n",
       "    </tr>\n",
       "  </thead>\n",
       "  <tbody>\n",
       "    <tr>\n",
       "      <th>0</th>\n",
       "      <td>-68.208684</td>\n",
       "      <td>30.029301</td>\n",
       "      <td>92.912652</td>\n",
       "      <td>-38.366312</td>\n",
       "      <td>78.128286</td>\n",
       "      <td>34.806298</td>\n",
       "      <td>46.381294</td>\n",
       "      <td>134.457638</td>\n",
       "      <td>-0.15739</td>\n",
       "      <td>-0.849355</td>\n",
       "      <td>...</td>\n",
       "      <td>10.773428</td>\n",
       "      <td>-10.72077</td>\n",
       "      <td>53.223</td>\n",
       "      <td>10.7425</td>\n",
       "      <td>-31.7385</td>\n",
       "      <td>83.252</td>\n",
       "      <td>73.486</td>\n",
       "      <td>50.537</td>\n",
       "      <td>-66.162</td>\n",
       "      <td>130.127</td>\n",
       "    </tr>\n",
       "  </tbody>\n",
       "</table>\n",
       "<p>1 rows × 46 columns</p>\n",
       "</div>"
      ],
      "text/plain": [
       "      mean_0     mean_1     mean_2     mean_3      std_0      std_1  \\\n",
       "0 -68.208684  30.029301  92.912652 -38.366312  78.128286  34.806298   \n",
       "\n",
       "       std_2       std_3   skew_0    skew_1  ...    d_std_2   d_std_3  \\\n",
       "0  46.381294  134.457638 -0.15739 -0.849355  ...  10.773428 -10.72077   \n",
       "\n",
       "   d_max_0  d_max_1  d_max_2  d_max_3  d_min_0  d_min_1  d_min_2  d_min_3  \n",
       "0   53.223  10.7425 -31.7385   83.252   73.486   50.537  -66.162  130.127  \n",
       "\n",
       "[1 rows x 46 columns]"
      ]
     },
     "execution_count": 12,
     "metadata": {},
     "output_type": "execute_result"
    }
   ],
   "source": [
    "dfs = []\n",
    "dfs.append(result)\n",
    "dfs.append(result_h)\n",
    "dfs = pd.concat(dfs,axis=1, sort=False)\n",
    "dfs"
   ]
  },
  {
   "cell_type": "code",
   "execution_count": 22,
   "metadata": {},
   "outputs": [
    {
     "data": {
      "text/plain": [
       "[TP9    -171.783453\n",
       " AF7     -22.460922\n",
       " AF8     138.900750\n",
       " TP10   -213.035594\n",
       " dtype: float64, TP9     -97.953797\n",
       " AF7      26.763906\n",
       " AF8     117.210375\n",
       " TP10    -73.089562\n",
       " dtype: float64, TP9    -32.562219\n",
       " AF7     55.679281\n",
       " AF8     66.749578\n",
       " TP10    20.385719\n",
       " dtype: float64, TP9      29.464734\n",
       " AF7      60.134937\n",
       " AF8      48.789906\n",
       " TP10    112.274188\n",
       " dtype: float64]"
      ]
     },
     "execution_count": 22,
     "metadata": {},
     "output_type": "execute_result"
    }
   ],
   "source": [
    "# Compute mean for each quarter window\n",
    "wq_mean = [x.mean() for x in wq] # 4 features per channel\n",
    "\n",
    "# Compute the change in the mean for each quarter window\n",
    "wq_d_mean10 = (wq_mean[1] - wq_mean[0]) / 2\n",
    "wq_d_mean20 = (wq_mean[2] - wq_mean[0]) / 2\n",
    "wq_d_mean30 = (wq_mean[3] - wq_mean[0]) / 2\n",
    "\n",
    "wq_d_mean21 = (wq_mean[2] - wq_mean[1]) / 2\n",
    "wq_d_mean31 = (wq_mean[3] - wq_mean[1]) / 2\n",
    "\n",
    "wq_d_mean32 = (wq_mean[3] - wq_mean[2]) / 2"
   ]
  },
  {
   "cell_type": "code",
   "execution_count": 14,
   "metadata": {},
   "outputs": [],
   "source": [
    "# Compute max and min for each quarter window\n",
    "wq_max = [x.max() for x in wq]\n",
    "wq_min = [x.min() for x in wq]"
   ]
  },
  {
   "cell_type": "code",
   "execution_count": 15,
   "metadata": {},
   "outputs": [],
   "source": [
    "# Advance window\n",
    "start += OVERLAP\n",
    "end = start + 1"
   ]
  },
  {
   "cell_type": "code",
   "execution_count": null,
   "metadata": {},
   "outputs": [],
   "source": []
  },
  {
   "cell_type": "code",
   "execution_count": null,
   "metadata": {},
   "outputs": [],
   "source": []
  },
  {
   "cell_type": "code",
   "execution_count": null,
   "metadata": {},
   "outputs": [],
   "source": []
  }
 ],
 "metadata": {
  "kernelspec": {
   "display_name": "Python 3",
   "language": "python",
   "name": "python3"
  },
  "language_info": {
   "codemirror_mode": {
    "name": "ipython",
    "version": 3
   },
   "file_extension": ".py",
   "mimetype": "text/x-python",
   "name": "python",
   "nbconvert_exporter": "python",
   "pygments_lexer": "ipython3",
   "version": "3.7.5"
  }
 },
 "nbformat": 4,
 "nbformat_minor": 2
}
