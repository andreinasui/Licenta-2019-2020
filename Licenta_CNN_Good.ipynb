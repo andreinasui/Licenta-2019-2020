{
  "nbformat": 4,
  "nbformat_minor": 0,
  "metadata": {
    "colab": {
      "name": "Licenta_CNN_Good.ipynb",
      "provenance": [],
      "collapsed_sections": [],
      "authorship_tag": "ABX9TyOWbWsT/mBGQH22Hcs6T5SS",
      "include_colab_link": true
    },
    "kernelspec": {
      "name": "python3",
      "display_name": "Python 3"
    },
    "accelerator": "GPU"
  },
  "cells": [
    {
      "cell_type": "markdown",
      "metadata": {
        "id": "view-in-github",
        "colab_type": "text"
      },
      "source": [
        "<a href=\"https://colab.research.google.com/github/zeulsoare/Licenta-2019-2020/blob/master/Licenta_CNN_Good.ipynb\" target=\"_parent\"><img src=\"https://colab.research.google.com/assets/colab-badge.svg\" alt=\"Open In Colab\"/></a>"
      ]
    },
    {
      "cell_type": "code",
      "metadata": {
        "id": "swKGFH_QrFN_",
        "colab_type": "code",
        "colab": {
          "base_uri": "https://localhost:8080/",
          "height": 35
        },
        "outputId": "c7808c6e-71ce-441b-8786-f8232d77b1ca"
      },
      "source": [
        "%matplotlib inline\n",
        "import matplotlib.pyplot as plt\n",
        "import numpy as np\n",
        "import pandas as pd\n",
        "%tensorflow_version 2.x\n",
        "import tensorflow as tf\n",
        "from tensorflow import keras\n",
        "from sklearn.feature_selection import SelectKBest, chi2, mutual_info_classif\n",
        "from sklearn.preprocessing import MaxAbsScaler, MinMaxScaler, LabelEncoder\n",
        "import math\n",
        "import statistics\n",
        "\n",
        "dataset_url = 'https://raw.githubusercontent.com/zeulsoare/Licenta-2019-2020/master/dataset/processed-data/processed-mental-states.csv'\n",
        "data = pd.read_csv(dataset_url)"
      ],
      "execution_count": 1,
      "outputs": [
        {
          "output_type": "stream",
          "text": [
            "TensorFlow 2.x selected.\n"
          ],
          "name": "stdout"
        }
      ]
    },
    {
      "cell_type": "code",
      "metadata": {
        "id": "Zn6wJoWurLkH",
        "colab_type": "code",
        "colab": {}
      },
      "source": [
        "# Split columns as features and class\n",
        "X = data.iloc[:,0:-1] # features\n",
        "Y = data.iloc[:,-1] # target class\n",
        "img_size = tf.constant([20,20])\n",
        "\n",
        "# Modify X to be >= 0 (needed in chi2 algorithm)\n",
        "# Add global min for every data entry\n",
        "global_min = X.min().min()\n",
        "X = pd.DataFrame([X[col] + abs(global_min) for col in X.columns]).T\n",
        "\n",
        "# Select best feature using chi2 algorithm\n",
        "num_features = img_size.numpy()[0]*img_size.numpy()[1]\n",
        "\n",
        "bestFeatures = SelectKBest(score_func=chi2,k=num_features)\n",
        "fit = bestFeatures.fit(X,Y)\n",
        "\n",
        "dfscores = pd.DataFrame(fit.scores_)\n",
        "dfcolumns = pd.DataFrame(X.columns)\n",
        "featureScores = pd.concat([dfcolumns, dfscores], axis=1)\n",
        "featureScores.columns = ['Features', 'Score']\n",
        "\n",
        "# Select the top 256 (16 x 16 image matrix dimensions) features, Score >= 10\n",
        "top_features = pd.DataFrame(featureScores.nlargest(num_features,'Score'))\n",
        "X = X.filter(top_features.Features,axis=1)\n",
        "\n",
        "# Substract global min again to the data, to restore it after feature selection\n",
        "X = pd.DataFrame([X[col] - abs(global_min) for col in X.columns]).T"
      ],
      "execution_count": 0,
      "outputs": []
    },
    {
      "cell_type": "code",
      "metadata": {
        "id": "1o6Z5whdrd0t",
        "colab_type": "code",
        "colab": {}
      },
      "source": [
        "# Normalize X so we can use the data as a grayscale image\n",
        "X_norm = X.values\n",
        "# I should try multiple methods of normalization to see if they matter on training\n",
        "# 1. MaxAbsScaler\n",
        "# 2. MinMaxScaler\n",
        "scaler = MaxAbsScaler(copy=False)\n",
        "#scaler = MinMaxScaler(copy=False)\n",
        "X_norm = scaler.fit_transform(X_norm)\n",
        "X.loc[:,:] = X_norm\n",
        "\n",
        "# One Hot Encod labels for use in CCE\n",
        "Y = keras.utils.to_categorical(Y.values,num_classes=3)\n",
        "\n",
        "# Split dataset into train and test (70% train and 30% test)\n",
        "from sklearn.model_selection import train_test_split\n",
        "X_train, X_test, Y_train, Y_test = train_test_split(X,Y,train_size=0.7)\n",
        "\n",
        "X_train = tf.reshape(X_train.values,[-1,img_size.numpy()[0],img_size.numpy()[1],1])\n",
        "X_test = tf.reshape(X_test.values,[-1,img_size.numpy()[0],img_size.numpy()[1],1])\n",
        "\n",
        "\n",
        "Y_train = Y_train\n",
        "Y_test = Y_test"
      ],
      "execution_count": 0,
      "outputs": []
    },
    {
      "cell_type": "code",
      "metadata": {
        "id": "OB5sD1CcrgRa",
        "colab_type": "code",
        "colab": {}
      },
      "source": [
        "def MindStateNet(X,Y,img_size):\n",
        "    # Using this model I got the following results on a 20x20x1 image\n",
        "    # Epoch taken : 239\n",
        "    # Overall loss : 0.1346\n",
        "    # Overall accuracy : 0.9481\n",
        "    # Overall validation loss : 0.3272\n",
        "    # Overall validation accuracy : 0.8930\n",
        "    # Model was trained using default Adam optimizer with CCE loss function\n",
        "    # 128 batch size with 0.15 validation split on 350 epoch with an early stopping\n",
        "    # on val_loss\n",
        "\n",
        "    inputs = keras.Input(shape=(20,20,1))\n",
        "\n",
        "    x = keras.layers.Conv2D(32,(3,3),padding='same',activation='relu')(inputs)\n",
        "    x = keras.layers.Conv2D(64,(2,2),activation='relu')(x)\n",
        "    x = keras.layers.MaxPool2D()(x)\n",
        "    x = keras.layers.Dropout(0.4)(x)\n",
        "\n",
        "    x = keras.layers.Conv2D(128,(2,2),activation='relu')(x)\n",
        "    x = keras.layers.MaxPool2D()(x)\n",
        "    x = keras.layers.Dropout(0.5)(x)\n",
        "\n",
        "    x = keras.layers.Flatten()(x)\n",
        "    x = keras.layers.Dense(256,activation='relu')(x)\n",
        "    x = keras.layers.Dropout(0.5)(x)\n",
        "    x = keras.layers.Dense(3,activation='softmax')(x)\n",
        "\n",
        "    model = keras.Model(inputs, x) \n",
        "    #keras.utils.plot_model(model,show_shapes=True)\n",
        "    #model.summary()\n",
        "    model.compile(optimizer=keras.optimizers.Adam(), loss=keras.losses.CategoricalCrossentropy(),metrics=['accuracy'])\n",
        "    patience_epoch = 50\n",
        "    history = model.fit(X, Y, 128, 350, validation_split=0.15,callbacks=[keras.callbacks.EarlyStopping(monitor='val_loss',patience=patience_epoch,verbose=1,restore_best_weights=False)])\n",
        "\n",
        "    return model, history, patience_epoch"
      ],
      "execution_count": 0,
      "outputs": []
    },
    {
      "cell_type": "code",
      "metadata": {
        "id": "QU6lb-mErl-1",
        "colab_type": "code",
        "colab": {
          "base_uri": "https://localhost:8080/",
          "height": 1000
        },
        "outputId": "61f0c52e-7d95-4d28-9e92-2b5605844961"
      },
      "source": [
        "model, history, patience_epoch = MindStateNet(X_train,Y_train,img_size)"
      ],
      "execution_count": 5,
      "outputs": [
        {
          "output_type": "stream",
          "text": [
            "Train on 1699 samples, validate on 300 samples\n",
            "Epoch 1/350\n",
            "1699/1699 [==============================] - 7s 4ms/sample - loss: 1.0636 - accuracy: 0.3720 - val_loss: 1.0243 - val_accuracy: 0.4700\n",
            "Epoch 2/350\n",
            "1699/1699 [==============================] - 0s 60us/sample - loss: 1.0235 - accuracy: 0.4461 - val_loss: 1.0053 - val_accuracy: 0.4267\n",
            "Epoch 3/350\n",
            "1699/1699 [==============================] - 0s 67us/sample - loss: 1.0105 - accuracy: 0.4579 - val_loss: 0.9926 - val_accuracy: 0.4367\n",
            "Epoch 4/350\n",
            "1699/1699 [==============================] - 0s 59us/sample - loss: 1.0003 - accuracy: 0.4679 - val_loss: 0.9996 - val_accuracy: 0.4433\n",
            "Epoch 5/350\n",
            "1699/1699 [==============================] - 0s 61us/sample - loss: 0.9973 - accuracy: 0.4879 - val_loss: 0.9772 - val_accuracy: 0.5100\n",
            "Epoch 6/350\n",
            "1699/1699 [==============================] - 0s 59us/sample - loss: 0.9821 - accuracy: 0.5197 - val_loss: 0.9753 - val_accuracy: 0.5033\n",
            "Epoch 7/350\n",
            "1699/1699 [==============================] - 0s 58us/sample - loss: 0.9800 - accuracy: 0.5026 - val_loss: 0.9560 - val_accuracy: 0.5300\n",
            "Epoch 8/350\n",
            "1699/1699 [==============================] - 0s 67us/sample - loss: 0.9594 - accuracy: 0.5115 - val_loss: 0.9247 - val_accuracy: 0.5700\n",
            "Epoch 9/350\n",
            "1699/1699 [==============================] - 0s 57us/sample - loss: 0.9440 - accuracy: 0.5303 - val_loss: 0.9036 - val_accuracy: 0.5333\n",
            "Epoch 10/350\n",
            "1699/1699 [==============================] - 0s 61us/sample - loss: 0.9050 - accuracy: 0.5539 - val_loss: 0.8435 - val_accuracy: 0.6067\n",
            "Epoch 11/350\n",
            "1699/1699 [==============================] - 0s 60us/sample - loss: 0.8654 - accuracy: 0.5756 - val_loss: 0.8421 - val_accuracy: 0.5100\n",
            "Epoch 12/350\n",
            "1699/1699 [==============================] - 0s 61us/sample - loss: 0.8791 - accuracy: 0.5644 - val_loss: 0.8107 - val_accuracy: 0.6300\n",
            "Epoch 13/350\n",
            "1699/1699 [==============================] - 0s 66us/sample - loss: 0.8256 - accuracy: 0.5933 - val_loss: 0.7503 - val_accuracy: 0.7067\n",
            "Epoch 14/350\n",
            "1699/1699 [==============================] - 0s 61us/sample - loss: 0.8091 - accuracy: 0.6068 - val_loss: 0.7119 - val_accuracy: 0.6700\n",
            "Epoch 15/350\n",
            "1699/1699 [==============================] - 0s 60us/sample - loss: 0.7767 - accuracy: 0.6374 - val_loss: 0.6901 - val_accuracy: 0.6467\n",
            "Epoch 16/350\n",
            "1699/1699 [==============================] - 0s 59us/sample - loss: 0.7321 - accuracy: 0.6557 - val_loss: 0.7470 - val_accuracy: 0.6767\n",
            "Epoch 17/350\n",
            "1699/1699 [==============================] - 0s 67us/sample - loss: 0.7410 - accuracy: 0.6592 - val_loss: 0.6478 - val_accuracy: 0.7000\n",
            "Epoch 18/350\n",
            "1699/1699 [==============================] - 0s 64us/sample - loss: 0.7090 - accuracy: 0.6786 - val_loss: 0.6413 - val_accuracy: 0.7233\n",
            "Epoch 19/350\n",
            "1699/1699 [==============================] - 0s 59us/sample - loss: 0.6716 - accuracy: 0.6910 - val_loss: 0.6072 - val_accuracy: 0.7300\n",
            "Epoch 20/350\n",
            "1699/1699 [==============================] - 0s 65us/sample - loss: 0.6628 - accuracy: 0.7092 - val_loss: 0.6792 - val_accuracy: 0.6800\n",
            "Epoch 21/350\n",
            "1699/1699 [==============================] - 0s 60us/sample - loss: 0.6928 - accuracy: 0.6804 - val_loss: 0.6016 - val_accuracy: 0.7433\n",
            "Epoch 22/350\n",
            "1699/1699 [==============================] - 0s 59us/sample - loss: 0.6470 - accuracy: 0.7157 - val_loss: 0.6072 - val_accuracy: 0.7400\n",
            "Epoch 23/350\n",
            "1699/1699 [==============================] - 0s 63us/sample - loss: 0.6409 - accuracy: 0.7187 - val_loss: 0.6461 - val_accuracy: 0.7267\n",
            "Epoch 24/350\n",
            "1699/1699 [==============================] - 0s 58us/sample - loss: 0.6150 - accuracy: 0.7204 - val_loss: 0.5695 - val_accuracy: 0.7500\n",
            "Epoch 25/350\n",
            "1699/1699 [==============================] - 0s 63us/sample - loss: 0.6091 - accuracy: 0.7381 - val_loss: 0.5458 - val_accuracy: 0.7667\n",
            "Epoch 26/350\n",
            "1699/1699 [==============================] - 0s 61us/sample - loss: 0.6021 - accuracy: 0.7369 - val_loss: 0.5382 - val_accuracy: 0.7600\n",
            "Epoch 27/350\n",
            "1699/1699 [==============================] - 0s 64us/sample - loss: 0.5899 - accuracy: 0.7451 - val_loss: 0.5457 - val_accuracy: 0.7700\n",
            "Epoch 28/350\n",
            "1699/1699 [==============================] - 0s 59us/sample - loss: 0.5986 - accuracy: 0.7463 - val_loss: 0.5329 - val_accuracy: 0.7700\n",
            "Epoch 29/350\n",
            "1699/1699 [==============================] - 0s 60us/sample - loss: 0.5629 - accuracy: 0.7487 - val_loss: 0.5408 - val_accuracy: 0.7500\n",
            "Epoch 30/350\n",
            "1699/1699 [==============================] - 0s 62us/sample - loss: 0.5504 - accuracy: 0.7575 - val_loss: 0.5044 - val_accuracy: 0.7833\n",
            "Epoch 31/350\n",
            "1699/1699 [==============================] - 0s 61us/sample - loss: 0.5599 - accuracy: 0.7451 - val_loss: 0.5269 - val_accuracy: 0.7867\n",
            "Epoch 32/350\n",
            "1699/1699 [==============================] - 0s 60us/sample - loss: 0.5443 - accuracy: 0.7640 - val_loss: 0.5301 - val_accuracy: 0.7733\n",
            "Epoch 33/350\n",
            "1699/1699 [==============================] - 0s 59us/sample - loss: 0.5408 - accuracy: 0.7705 - val_loss: 0.5210 - val_accuracy: 0.7867\n",
            "Epoch 34/350\n",
            "1699/1699 [==============================] - 0s 64us/sample - loss: 0.5278 - accuracy: 0.7793 - val_loss: 0.5066 - val_accuracy: 0.7933\n",
            "Epoch 35/350\n",
            "1699/1699 [==============================] - 0s 59us/sample - loss: 0.5099 - accuracy: 0.7881 - val_loss: 0.5053 - val_accuracy: 0.7867\n",
            "Epoch 36/350\n",
            "1699/1699 [==============================] - 0s 62us/sample - loss: 0.5154 - accuracy: 0.7669 - val_loss: 0.5089 - val_accuracy: 0.7733\n",
            "Epoch 37/350\n",
            "1699/1699 [==============================] - 0s 63us/sample - loss: 0.4989 - accuracy: 0.7869 - val_loss: 0.4846 - val_accuracy: 0.7967\n",
            "Epoch 38/350\n",
            "1699/1699 [==============================] - 0s 61us/sample - loss: 0.4898 - accuracy: 0.7846 - val_loss: 0.4662 - val_accuracy: 0.8233\n",
            "Epoch 39/350\n",
            "1699/1699 [==============================] - 0s 62us/sample - loss: 0.5091 - accuracy: 0.7822 - val_loss: 0.4881 - val_accuracy: 0.7933\n",
            "Epoch 40/350\n",
            "1699/1699 [==============================] - 0s 58us/sample - loss: 0.4834 - accuracy: 0.7940 - val_loss: 0.4975 - val_accuracy: 0.7867\n",
            "Epoch 41/350\n",
            "1699/1699 [==============================] - 0s 61us/sample - loss: 0.4786 - accuracy: 0.7810 - val_loss: 0.4914 - val_accuracy: 0.8033\n",
            "Epoch 42/350\n",
            "1699/1699 [==============================] - 0s 60us/sample - loss: 0.4745 - accuracy: 0.7934 - val_loss: 0.4547 - val_accuracy: 0.8300\n",
            "Epoch 43/350\n",
            "1699/1699 [==============================] - 0s 68us/sample - loss: 0.4756 - accuracy: 0.7999 - val_loss: 0.4915 - val_accuracy: 0.8033\n",
            "Epoch 44/350\n",
            "1699/1699 [==============================] - 0s 60us/sample - loss: 0.4572 - accuracy: 0.8175 - val_loss: 0.4588 - val_accuracy: 0.8100\n",
            "Epoch 45/350\n",
            "1699/1699 [==============================] - 0s 66us/sample - loss: 0.4630 - accuracy: 0.8016 - val_loss: 0.4460 - val_accuracy: 0.8100\n",
            "Epoch 46/350\n",
            "1699/1699 [==============================] - 0s 66us/sample - loss: 0.4543 - accuracy: 0.8099 - val_loss: 0.5396 - val_accuracy: 0.7700\n",
            "Epoch 47/350\n",
            "1699/1699 [==============================] - 0s 63us/sample - loss: 0.4708 - accuracy: 0.7969 - val_loss: 0.4593 - val_accuracy: 0.8133\n",
            "Epoch 48/350\n",
            "1699/1699 [==============================] - 0s 63us/sample - loss: 0.4438 - accuracy: 0.8222 - val_loss: 0.4562 - val_accuracy: 0.8100\n",
            "Epoch 49/350\n",
            "1699/1699 [==============================] - 0s 66us/sample - loss: 0.4257 - accuracy: 0.8128 - val_loss: 0.4442 - val_accuracy: 0.8233\n",
            "Epoch 50/350\n",
            "1699/1699 [==============================] - 0s 60us/sample - loss: 0.4393 - accuracy: 0.8117 - val_loss: 0.4630 - val_accuracy: 0.8267\n",
            "Epoch 51/350\n",
            "1699/1699 [==============================] - 0s 61us/sample - loss: 0.4237 - accuracy: 0.8217 - val_loss: 0.4477 - val_accuracy: 0.8300\n",
            "Epoch 52/350\n",
            "1699/1699 [==============================] - 0s 59us/sample - loss: 0.4003 - accuracy: 0.8334 - val_loss: 0.4474 - val_accuracy: 0.8300\n",
            "Epoch 53/350\n",
            "1699/1699 [==============================] - 0s 59us/sample - loss: 0.4270 - accuracy: 0.8199 - val_loss: 0.4417 - val_accuracy: 0.8367\n",
            "Epoch 54/350\n",
            "1699/1699 [==============================] - 0s 65us/sample - loss: 0.4027 - accuracy: 0.8317 - val_loss: 0.4227 - val_accuracy: 0.8367\n",
            "Epoch 55/350\n",
            "1699/1699 [==============================] - 0s 59us/sample - loss: 0.4168 - accuracy: 0.8252 - val_loss: 0.4423 - val_accuracy: 0.8367\n",
            "Epoch 56/350\n",
            "1699/1699 [==============================] - 0s 68us/sample - loss: 0.3919 - accuracy: 0.8358 - val_loss: 0.4315 - val_accuracy: 0.8267\n",
            "Epoch 57/350\n",
            "1699/1699 [==============================] - 0s 58us/sample - loss: 0.3940 - accuracy: 0.8358 - val_loss: 0.4561 - val_accuracy: 0.8200\n",
            "Epoch 58/350\n",
            "1699/1699 [==============================] - 0s 57us/sample - loss: 0.3846 - accuracy: 0.8428 - val_loss: 0.4431 - val_accuracy: 0.8333\n",
            "Epoch 59/350\n",
            "1699/1699 [==============================] - 0s 61us/sample - loss: 0.3720 - accuracy: 0.8423 - val_loss: 0.4212 - val_accuracy: 0.8400\n",
            "Epoch 60/350\n",
            "1699/1699 [==============================] - 0s 64us/sample - loss: 0.3580 - accuracy: 0.8470 - val_loss: 0.4095 - val_accuracy: 0.8367\n",
            "Epoch 61/350\n",
            "1699/1699 [==============================] - 0s 58us/sample - loss: 0.3623 - accuracy: 0.8499 - val_loss: 0.4341 - val_accuracy: 0.8400\n",
            "Epoch 62/350\n",
            "1699/1699 [==============================] - 0s 60us/sample - loss: 0.3637 - accuracy: 0.8440 - val_loss: 0.4163 - val_accuracy: 0.8400\n",
            "Epoch 63/350\n",
            "1699/1699 [==============================] - 0s 62us/sample - loss: 0.3572 - accuracy: 0.8464 - val_loss: 0.4371 - val_accuracy: 0.8400\n",
            "Epoch 64/350\n",
            "1699/1699 [==============================] - 0s 58us/sample - loss: 0.3509 - accuracy: 0.8499 - val_loss: 0.4437 - val_accuracy: 0.8633\n",
            "Epoch 65/350\n",
            "1699/1699 [==============================] - 0s 69us/sample - loss: 0.3763 - accuracy: 0.8423 - val_loss: 0.4547 - val_accuracy: 0.7967\n",
            "Epoch 66/350\n",
            "1699/1699 [==============================] - 0s 60us/sample - loss: 0.3830 - accuracy: 0.8428 - val_loss: 0.4083 - val_accuracy: 0.8467\n",
            "Epoch 67/350\n",
            "1699/1699 [==============================] - 0s 62us/sample - loss: 0.3474 - accuracy: 0.8617 - val_loss: 0.3963 - val_accuracy: 0.8500\n",
            "Epoch 68/350\n",
            "1699/1699 [==============================] - 0s 58us/sample - loss: 0.3192 - accuracy: 0.8587 - val_loss: 0.4083 - val_accuracy: 0.8500\n",
            "Epoch 69/350\n",
            "1699/1699 [==============================] - 0s 70us/sample - loss: 0.3447 - accuracy: 0.8534 - val_loss: 0.4196 - val_accuracy: 0.8400\n",
            "Epoch 70/350\n",
            "1699/1699 [==============================] - 0s 61us/sample - loss: 0.3600 - accuracy: 0.8423 - val_loss: 0.3978 - val_accuracy: 0.8600\n",
            "Epoch 71/350\n",
            "1699/1699 [==============================] - 0s 59us/sample - loss: 0.3305 - accuracy: 0.8634 - val_loss: 0.4013 - val_accuracy: 0.8533\n",
            "Epoch 72/350\n",
            "1699/1699 [==============================] - 0s 63us/sample - loss: 0.3238 - accuracy: 0.8717 - val_loss: 0.4003 - val_accuracy: 0.8367\n",
            "Epoch 73/350\n",
            "1699/1699 [==============================] - 0s 59us/sample - loss: 0.3130 - accuracy: 0.8711 - val_loss: 0.4037 - val_accuracy: 0.8367\n",
            "Epoch 74/350\n",
            "1699/1699 [==============================] - 0s 63us/sample - loss: 0.3185 - accuracy: 0.8735 - val_loss: 0.3925 - val_accuracy: 0.8567\n",
            "Epoch 75/350\n",
            "1699/1699 [==============================] - 0s 66us/sample - loss: 0.2928 - accuracy: 0.8823 - val_loss: 0.4024 - val_accuracy: 0.8533\n",
            "Epoch 76/350\n",
            "1699/1699 [==============================] - 0s 63us/sample - loss: 0.3076 - accuracy: 0.8699 - val_loss: 0.4131 - val_accuracy: 0.8467\n",
            "Epoch 77/350\n",
            "1699/1699 [==============================] - 0s 60us/sample - loss: 0.2950 - accuracy: 0.8805 - val_loss: 0.3840 - val_accuracy: 0.8467\n",
            "Epoch 78/350\n",
            "1699/1699 [==============================] - 0s 60us/sample - loss: 0.3035 - accuracy: 0.8693 - val_loss: 0.3975 - val_accuracy: 0.8500\n",
            "Epoch 79/350\n",
            "1699/1699 [==============================] - 0s 63us/sample - loss: 0.2886 - accuracy: 0.8758 - val_loss: 0.4026 - val_accuracy: 0.8467\n",
            "Epoch 80/350\n",
            "1699/1699 [==============================] - 0s 60us/sample - loss: 0.2878 - accuracy: 0.8782 - val_loss: 0.4275 - val_accuracy: 0.8367\n",
            "Epoch 81/350\n",
            "1699/1699 [==============================] - 0s 61us/sample - loss: 0.3039 - accuracy: 0.8817 - val_loss: 0.3878 - val_accuracy: 0.8500\n",
            "Epoch 82/350\n",
            "1699/1699 [==============================] - 0s 60us/sample - loss: 0.2865 - accuracy: 0.8793 - val_loss: 0.4101 - val_accuracy: 0.8400\n",
            "Epoch 83/350\n",
            "1699/1699 [==============================] - 0s 70us/sample - loss: 0.2724 - accuracy: 0.8846 - val_loss: 0.4190 - val_accuracy: 0.8267\n",
            "Epoch 84/350\n",
            "1699/1699 [==============================] - 0s 65us/sample - loss: 0.3015 - accuracy: 0.8840 - val_loss: 0.3982 - val_accuracy: 0.8333\n",
            "Epoch 85/350\n",
            "1699/1699 [==============================] - 0s 59us/sample - loss: 0.2963 - accuracy: 0.8823 - val_loss: 0.3786 - val_accuracy: 0.8633\n",
            "Epoch 86/350\n",
            "1699/1699 [==============================] - 0s 60us/sample - loss: 0.2763 - accuracy: 0.8905 - val_loss: 0.3875 - val_accuracy: 0.8533\n",
            "Epoch 87/350\n",
            "1699/1699 [==============================] - 0s 60us/sample - loss: 0.2849 - accuracy: 0.8823 - val_loss: 0.3883 - val_accuracy: 0.8567\n",
            "Epoch 88/350\n",
            "1699/1699 [==============================] - 0s 62us/sample - loss: 0.2790 - accuracy: 0.8852 - val_loss: 0.3987 - val_accuracy: 0.8533\n",
            "Epoch 89/350\n",
            "1699/1699 [==============================] - 0s 60us/sample - loss: 0.2751 - accuracy: 0.8888 - val_loss: 0.3816 - val_accuracy: 0.8500\n",
            "Epoch 90/350\n",
            "1699/1699 [==============================] - 0s 59us/sample - loss: 0.2684 - accuracy: 0.8882 - val_loss: 0.4074 - val_accuracy: 0.8533\n",
            "Epoch 91/350\n",
            "1699/1699 [==============================] - 0s 57us/sample - loss: 0.2819 - accuracy: 0.8811 - val_loss: 0.3772 - val_accuracy: 0.8300\n",
            "Epoch 92/350\n",
            "1699/1699 [==============================] - 0s 61us/sample - loss: 0.2727 - accuracy: 0.8864 - val_loss: 0.3906 - val_accuracy: 0.8567\n",
            "Epoch 93/350\n",
            "1699/1699 [==============================] - 0s 69us/sample - loss: 0.2711 - accuracy: 0.8835 - val_loss: 0.4001 - val_accuracy: 0.8500\n",
            "Epoch 94/350\n",
            "1699/1699 [==============================] - 0s 63us/sample - loss: 0.2617 - accuracy: 0.8876 - val_loss: 0.4090 - val_accuracy: 0.8500\n",
            "Epoch 95/350\n",
            "1699/1699 [==============================] - 0s 60us/sample - loss: 0.2524 - accuracy: 0.9005 - val_loss: 0.3844 - val_accuracy: 0.8400\n",
            "Epoch 96/350\n",
            "1699/1699 [==============================] - 0s 59us/sample - loss: 0.2617 - accuracy: 0.8929 - val_loss: 0.3877 - val_accuracy: 0.8533\n",
            "Epoch 97/350\n",
            "1699/1699 [==============================] - 0s 65us/sample - loss: 0.2746 - accuracy: 0.8917 - val_loss: 0.3749 - val_accuracy: 0.8500\n",
            "Epoch 98/350\n",
            "1699/1699 [==============================] - 0s 60us/sample - loss: 0.2673 - accuracy: 0.8917 - val_loss: 0.4060 - val_accuracy: 0.8333\n",
            "Epoch 99/350\n",
            "1699/1699 [==============================] - 0s 62us/sample - loss: 0.2384 - accuracy: 0.8988 - val_loss: 0.4007 - val_accuracy: 0.8433\n",
            "Epoch 100/350\n",
            "1699/1699 [==============================] - 0s 61us/sample - loss: 0.2355 - accuracy: 0.9094 - val_loss: 0.3883 - val_accuracy: 0.8400\n",
            "Epoch 101/350\n",
            "1699/1699 [==============================] - 0s 60us/sample - loss: 0.2460 - accuracy: 0.8935 - val_loss: 0.4269 - val_accuracy: 0.8167\n",
            "Epoch 102/350\n",
            "1699/1699 [==============================] - 0s 62us/sample - loss: 0.2347 - accuracy: 0.9105 - val_loss: 0.3927 - val_accuracy: 0.8500\n",
            "Epoch 103/350\n",
            "1699/1699 [==============================] - 0s 59us/sample - loss: 0.2285 - accuracy: 0.9099 - val_loss: 0.3998 - val_accuracy: 0.8467\n",
            "Epoch 104/350\n",
            "1699/1699 [==============================] - 0s 65us/sample - loss: 0.2478 - accuracy: 0.9046 - val_loss: 0.3855 - val_accuracy: 0.8500\n",
            "Epoch 105/350\n",
            "1699/1699 [==============================] - 0s 57us/sample - loss: 0.2233 - accuracy: 0.9141 - val_loss: 0.4239 - val_accuracy: 0.8300\n",
            "Epoch 106/350\n",
            "1699/1699 [==============================] - 0s 63us/sample - loss: 0.2531 - accuracy: 0.8935 - val_loss: 0.3983 - val_accuracy: 0.8333\n",
            "Epoch 107/350\n",
            "1699/1699 [==============================] - 0s 60us/sample - loss: 0.2541 - accuracy: 0.8911 - val_loss: 0.4204 - val_accuracy: 0.8367\n",
            "Epoch 108/350\n",
            "1699/1699 [==============================] - 0s 62us/sample - loss: 0.2418 - accuracy: 0.9035 - val_loss: 0.3849 - val_accuracy: 0.8333\n",
            "Epoch 109/350\n",
            "1699/1699 [==============================] - 0s 60us/sample - loss: 0.2129 - accuracy: 0.9211 - val_loss: 0.3833 - val_accuracy: 0.8467\n",
            "Epoch 110/350\n",
            "1699/1699 [==============================] - 0s 61us/sample - loss: 0.2299 - accuracy: 0.8999 - val_loss: 0.3709 - val_accuracy: 0.8333\n",
            "Epoch 111/350\n",
            "1699/1699 [==============================] - 0s 59us/sample - loss: 0.2216 - accuracy: 0.9123 - val_loss: 0.4200 - val_accuracy: 0.8300\n",
            "Epoch 112/350\n",
            "1699/1699 [==============================] - 0s 61us/sample - loss: 0.2404 - accuracy: 0.9064 - val_loss: 0.4046 - val_accuracy: 0.8333\n",
            "Epoch 113/350\n",
            "1699/1699 [==============================] - 0s 69us/sample - loss: 0.2132 - accuracy: 0.9194 - val_loss: 0.3781 - val_accuracy: 0.8500\n",
            "Epoch 114/350\n",
            "1699/1699 [==============================] - 0s 60us/sample - loss: 0.2151 - accuracy: 0.9088 - val_loss: 0.3895 - val_accuracy: 0.8400\n",
            "Epoch 115/350\n",
            "1699/1699 [==============================] - 0s 60us/sample - loss: 0.2312 - accuracy: 0.9129 - val_loss: 0.3727 - val_accuracy: 0.8567\n",
            "Epoch 116/350\n",
            "1699/1699 [==============================] - 0s 58us/sample - loss: 0.2299 - accuracy: 0.9046 - val_loss: 0.3851 - val_accuracy: 0.8267\n",
            "Epoch 117/350\n",
            "1699/1699 [==============================] - 0s 62us/sample - loss: 0.2096 - accuracy: 0.9170 - val_loss: 0.3940 - val_accuracy: 0.8467\n",
            "Epoch 118/350\n",
            "1699/1699 [==============================] - 0s 56us/sample - loss: 0.2289 - accuracy: 0.9117 - val_loss: 0.4002 - val_accuracy: 0.8467\n",
            "Epoch 119/350\n",
            "1699/1699 [==============================] - 0s 65us/sample - loss: 0.2236 - accuracy: 0.9158 - val_loss: 0.3798 - val_accuracy: 0.8467\n",
            "Epoch 120/350\n",
            "1699/1699 [==============================] - 0s 57us/sample - loss: 0.2282 - accuracy: 0.9035 - val_loss: 0.4012 - val_accuracy: 0.8400\n",
            "Epoch 121/350\n",
            "1699/1699 [==============================] - 0s 63us/sample - loss: 0.2045 - accuracy: 0.9205 - val_loss: 0.3958 - val_accuracy: 0.8467\n",
            "Epoch 122/350\n",
            "1699/1699 [==============================] - 0s 58us/sample - loss: 0.2177 - accuracy: 0.9200 - val_loss: 0.3758 - val_accuracy: 0.8433\n",
            "Epoch 123/350\n",
            "1699/1699 [==============================] - 0s 62us/sample - loss: 0.1910 - accuracy: 0.9205 - val_loss: 0.3802 - val_accuracy: 0.8500\n",
            "Epoch 124/350\n",
            "1699/1699 [==============================] - 0s 65us/sample - loss: 0.2074 - accuracy: 0.9241 - val_loss: 0.4023 - val_accuracy: 0.8533\n",
            "Epoch 125/350\n",
            "1699/1699 [==============================] - 0s 61us/sample - loss: 0.1960 - accuracy: 0.9182 - val_loss: 0.3754 - val_accuracy: 0.8433\n",
            "Epoch 126/350\n",
            "1699/1699 [==============================] - 0s 62us/sample - loss: 0.1896 - accuracy: 0.9294 - val_loss: 0.4048 - val_accuracy: 0.8433\n",
            "Epoch 127/350\n",
            "1699/1699 [==============================] - 0s 59us/sample - loss: 0.2083 - accuracy: 0.9182 - val_loss: 0.3833 - val_accuracy: 0.8533\n",
            "Epoch 128/350\n",
            "1699/1699 [==============================] - 0s 60us/sample - loss: 0.2171 - accuracy: 0.9105 - val_loss: 0.4312 - val_accuracy: 0.8233\n",
            "Epoch 129/350\n",
            "1699/1699 [==============================] - 0s 60us/sample - loss: 0.2188 - accuracy: 0.9147 - val_loss: 0.4041 - val_accuracy: 0.8333\n",
            "Epoch 130/350\n",
            "1699/1699 [==============================] - 0s 60us/sample - loss: 0.1952 - accuracy: 0.9264 - val_loss: 0.3981 - val_accuracy: 0.8433\n",
            "Epoch 131/350\n",
            "1699/1699 [==============================] - 0s 65us/sample - loss: 0.1939 - accuracy: 0.9258 - val_loss: 0.3995 - val_accuracy: 0.8467\n",
            "Epoch 132/350\n",
            "1699/1699 [==============================] - 0s 62us/sample - loss: 0.1931 - accuracy: 0.9294 - val_loss: 0.3919 - val_accuracy: 0.8567\n",
            "Epoch 133/350\n",
            "1699/1699 [==============================] - 0s 63us/sample - loss: 0.1800 - accuracy: 0.9329 - val_loss: 0.3897 - val_accuracy: 0.8567\n",
            "Epoch 134/350\n",
            "1699/1699 [==============================] - 0s 59us/sample - loss: 0.1994 - accuracy: 0.9152 - val_loss: 0.4054 - val_accuracy: 0.8400\n",
            "Epoch 135/350\n",
            "1699/1699 [==============================] - 0s 66us/sample - loss: 0.1728 - accuracy: 0.9288 - val_loss: 0.3942 - val_accuracy: 0.8467\n",
            "Epoch 136/350\n",
            "1699/1699 [==============================] - 0s 62us/sample - loss: 0.1727 - accuracy: 0.9276 - val_loss: 0.4157 - val_accuracy: 0.8333\n",
            "Epoch 137/350\n",
            "1699/1699 [==============================] - 0s 58us/sample - loss: 0.1991 - accuracy: 0.9188 - val_loss: 0.4336 - val_accuracy: 0.8500\n",
            "Epoch 138/350\n",
            "1699/1699 [==============================] - 0s 64us/sample - loss: 0.2194 - accuracy: 0.9247 - val_loss: 0.3832 - val_accuracy: 0.8600\n",
            "Epoch 139/350\n",
            "1699/1699 [==============================] - 0s 58us/sample - loss: 0.1720 - accuracy: 0.9435 - val_loss: 0.3917 - val_accuracy: 0.8400\n",
            "Epoch 140/350\n",
            "1699/1699 [==============================] - 0s 58us/sample - loss: 0.1597 - accuracy: 0.9347 - val_loss: 0.4069 - val_accuracy: 0.8500\n",
            "Epoch 141/350\n",
            "1699/1699 [==============================] - 0s 59us/sample - loss: 0.1789 - accuracy: 0.9282 - val_loss: 0.4107 - val_accuracy: 0.8533\n",
            "Epoch 142/350\n",
            "1699/1699 [==============================] - 0s 63us/sample - loss: 0.1819 - accuracy: 0.9258 - val_loss: 0.3824 - val_accuracy: 0.8533\n",
            "Epoch 143/350\n",
            "1699/1699 [==============================] - 0s 67us/sample - loss: 0.1795 - accuracy: 0.9276 - val_loss: 0.3799 - val_accuracy: 0.8500\n",
            "Epoch 144/350\n",
            "1699/1699 [==============================] - 0s 59us/sample - loss: 0.1785 - accuracy: 0.9341 - val_loss: 0.3845 - val_accuracy: 0.8400\n",
            "Epoch 145/350\n",
            "1699/1699 [==============================] - 0s 67us/sample - loss: 0.1805 - accuracy: 0.9211 - val_loss: 0.3925 - val_accuracy: 0.8467\n",
            "Epoch 146/350\n",
            "1699/1699 [==============================] - 0s 63us/sample - loss: 0.1713 - accuracy: 0.9300 - val_loss: 0.4111 - val_accuracy: 0.8400\n",
            "Epoch 147/350\n",
            "1699/1699 [==============================] - 0s 60us/sample - loss: 0.1813 - accuracy: 0.9300 - val_loss: 0.3919 - val_accuracy: 0.8400\n",
            "Epoch 148/350\n",
            "1699/1699 [==============================] - 0s 59us/sample - loss: 0.1915 - accuracy: 0.9282 - val_loss: 0.4179 - val_accuracy: 0.8333\n",
            "Epoch 149/350\n",
            "1699/1699 [==============================] - 0s 59us/sample - loss: 0.1716 - accuracy: 0.9323 - val_loss: 0.4235 - val_accuracy: 0.8300\n",
            "Epoch 150/350\n",
            "1699/1699 [==============================] - 0s 57us/sample - loss: 0.1792 - accuracy: 0.9329 - val_loss: 0.4192 - val_accuracy: 0.8333\n",
            "Epoch 151/350\n",
            "1699/1699 [==============================] - 0s 65us/sample - loss: 0.1819 - accuracy: 0.9253 - val_loss: 0.3875 - val_accuracy: 0.8467\n",
            "Epoch 152/350\n",
            "1699/1699 [==============================] - 0s 63us/sample - loss: 0.1783 - accuracy: 0.9229 - val_loss: 0.4022 - val_accuracy: 0.8233\n",
            "Epoch 153/350\n",
            "1699/1699 [==============================] - 0s 63us/sample - loss: 0.1800 - accuracy: 0.9294 - val_loss: 0.3831 - val_accuracy: 0.8567\n",
            "Epoch 154/350\n",
            "1699/1699 [==============================] - 0s 60us/sample - loss: 0.1626 - accuracy: 0.9406 - val_loss: 0.3792 - val_accuracy: 0.8500\n",
            "Epoch 155/350\n",
            "1699/1699 [==============================] - 0s 64us/sample - loss: 0.1648 - accuracy: 0.9341 - val_loss: 0.3948 - val_accuracy: 0.8467\n",
            "Epoch 156/350\n",
            "1699/1699 [==============================] - 0s 58us/sample - loss: 0.1615 - accuracy: 0.9335 - val_loss: 0.3957 - val_accuracy: 0.8400\n",
            "Epoch 157/350\n",
            "1699/1699 [==============================] - 0s 59us/sample - loss: 0.1522 - accuracy: 0.9353 - val_loss: 0.3937 - val_accuracy: 0.8467\n",
            "Epoch 158/350\n",
            "1699/1699 [==============================] - 0s 60us/sample - loss: 0.1544 - accuracy: 0.9394 - val_loss: 0.4096 - val_accuracy: 0.8400\n",
            "Epoch 159/350\n",
            "1699/1699 [==============================] - 0s 58us/sample - loss: 0.1463 - accuracy: 0.9470 - val_loss: 0.3789 - val_accuracy: 0.8567\n",
            "Epoch 160/350\n",
            "1699/1699 [==============================] - 0s 64us/sample - loss: 0.1639 - accuracy: 0.9347 - val_loss: 0.3897 - val_accuracy: 0.8467\n",
            "Epoch 00160: early stopping\n"
          ],
          "name": "stdout"
        }
      ]
    },
    {
      "cell_type": "code",
      "metadata": {
        "id": "8oMfXs8Crzqi",
        "colab_type": "code",
        "colab": {
          "base_uri": "https://localhost:8080/",
          "height": 109
        },
        "outputId": "9623254a-450b-42fd-cd6c-592b595332a4"
      },
      "source": [
        "print('Epoch taken : %d' %(history.epoch[-1]+1))\n",
        "print('Overall loss : %.4f' %statistics.mean(history.history['loss'][-patience_epoch:]))\n",
        "print('Overall accuracy : %.4f' %statistics.mean(history.history['accuracy'][-patience_epoch:]))\n",
        "print('Overall validation loss : %.4f' %statistics.mean(history.history['val_loss'][-patience_epoch:]))\n",
        "print('Overall validation accuracy : %.4f' %statistics.mean(history.history['val_accuracy'][-patience_epoch:]))"
      ],
      "execution_count": 6,
      "outputs": [
        {
          "output_type": "stream",
          "text": [
            "Epoch taken : 160\n",
            "Overall loss : 0.1918\n",
            "Overall accuracy : 0.9246\n",
            "Overall validation loss : 0.3963\n",
            "Overall validation accuracy : 0.8441\n"
          ],
          "name": "stdout"
        }
      ]
    },
    {
      "cell_type": "code",
      "metadata": {
        "id": "mcDWolOgr-dM",
        "colab_type": "code",
        "colab": {
          "base_uri": "https://localhost:8080/",
          "height": 573
        },
        "outputId": "a6bc5aef-7b9f-45a6-fd34-e2b706977779"
      },
      "source": [
        "# Evaluating the model through graphs\n",
        "plt.title('Accuracy graph')\n",
        "plt.plot(history.history['accuracy'], label='accuracy')\n",
        "plt.plot(history.history['val_accuracy'], label = 'val_accuracy')\n",
        "plt.xlabel('Epoch')\n",
        "plt.ylabel('Accuracy')\n",
        "plt.ylim([0.5, 1])\n",
        "plt.legend(loc='lower right')\n",
        "plt.show()\n",
        "\n",
        "plt.title('Loss graph')\n",
        "plt.plot(history.history['loss'], label='loss')\n",
        "plt.plot(history.history['val_loss'], label = 'val_loss')\n",
        "plt.xlabel('Epoch')\n",
        "plt.ylabel('Loss')\n",
        "plt.ylim([0.009, 1])\n",
        "plt.legend(loc='lower left')\n",
        "plt.show()"
      ],
      "execution_count": 7,
      "outputs": [
        {
          "output_type": "display_data",
          "data": {
            "image/png": "[encoded data removed]",
            "text/plain": [
              "<Figure size 432x288 with 1 Axes>"
            ]
          },
          "metadata": {
            "tags": []
          }
        },
        {
          "output_type": "display_data",
          "data": {
            "image/png": "[encoded data removed]",
            "text/plain": [
              "<Figure size 432x288 with 1 Axes>"
            ]
          },
          "metadata": {
            "tags": []
          }
        }
      ]
    },
    {
      "cell_type": "code",
      "metadata": {
        "id": "Nx9ssLjysAgs",
        "colab_type": "code",
        "colab": {
          "base_uri": "https://localhost:8080/",
          "height": 35
        },
        "outputId": "768bf496-9da6-49aa-dc9a-e1d332ab88ab"
      },
      "source": [
        "# Test model on test dataset\n",
        "results = model.evaluate(X_test, Y_test)\n",
        "predictions = model.predict(X_test)\n",
        "\n",
        "# Transform data from one hot to normal labels\n",
        "true_class_pred = np.argmax(predictions,axis=1)\n",
        "true_class = np.argmax(Y_test,axis=1)"
      ],
      "execution_count": 8,
      "outputs": [
        {
          "output_type": "stream",
          "text": [
            "857/857 [==============================] - 0s 128us/sample - loss: 0.4018 - accuracy: 0.8681\n"
          ],
          "name": "stdout"
        }
      ]
    },
    {
      "cell_type": "code",
      "metadata": {
        "id": "tqLYy8U7sCUO",
        "colab_type": "code",
        "colab": {
          "base_uri": "https://localhost:8080/",
          "height": 273
        },
        "outputId": "7b4c5586-0b18-4743-ce07-651da6025a5c"
      },
      "source": [
        "import seaborn as sn\n",
        "from sklearn import metrics\n",
        "cm = metrics.confusion_matrix(true_class, true_class_pred)\n",
        "sn.set(font_scale=1.4) # for label size\n",
        "sn.heatmap(cm, annot=True, annot_kws={\"size\": 16}) # font size\n",
        "\n",
        "plt.show()"
      ],
      "execution_count": 9,
      "outputs": [
        {
          "output_type": "display_data",
          "data": {
            "image/png": "[encoded data removed]",
            "text/plain": [
              "<Figure size 432x288 with 2 Axes>"
            ]
          },
          "metadata": {
            "tags": []
          }
        }
      ]
    },
    {
      "cell_type": "code",
      "metadata": {
        "id": "dTfKk3wqsMKn",
        "colab_type": "code",
        "colab": {}
      },
      "source": [
        ""
      ],
      "execution_count": 0,
      "outputs": []
    }
  ]
}